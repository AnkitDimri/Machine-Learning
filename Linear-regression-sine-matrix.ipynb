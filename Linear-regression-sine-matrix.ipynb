{
 "cells": [
  {
   "cell_type": "code",
   "execution_count": 2,
   "metadata": {},
   "outputs": [],
   "source": [
    "#linear regression"
   ]
  },
  {
   "cell_type": "code",
   "execution_count": 97,
   "metadata": {},
   "outputs": [],
   "source": [
    "import numpy as np\n",
    "import matplotlib.pyplot as plt\n",
    "import pandas as pd"
   ]
  },
  {
   "cell_type": "code",
   "execution_count": null,
   "metadata": {},
   "outputs": [],
   "source": []
  },
  {
   "cell_type": "code",
   "execution_count": 135,
   "metadata": {},
   "outputs": [],
   "source": [
    "x = np.linspace (0, 2*np.pi, 10)\n",
    "y = np.sin(x)"
   ]
  },
  {
   "cell_type": "code",
   "execution_count": 136,
   "metadata": {},
   "outputs": [
    {
     "data": {
      "text/plain": [
       "<matplotlib.collections.PathCollection at 0x7f19b0f2e1d0>"
      ]
     },
     "execution_count": 136,
     "metadata": {},
     "output_type": "execute_result"
    },
    {
     "data": {
      "image/png": "[encoded data removed]",
      "text/plain": [
       "<Figure size 432x288 with 1 Axes>"
      ]
     },
     "metadata": {
      "needs_background": "light"
     },
     "output_type": "display_data"
    }
   ],
   "source": [
    "plt.scatter (x, y)"
   ]
  },
  {
   "cell_type": "code",
   "execution_count": 138,
   "metadata": {},
   "outputs": [],
   "source": [
    "y_true = np.sin (x) + np.random.normal (0,0.09, 10)"
   ]
  },
  {
   "cell_type": "code",
   "execution_count": 139,
   "metadata": {},
   "outputs": [
    {
     "data": {
      "image/png": "[encoded data removed]",
      "text/plain": [
       "<Figure size 432x288 with 1 Axes>"
      ]
     },
     "metadata": {
      "needs_background": "light"
     },
     "output_type": "display_data"
    }
   ],
   "source": [
    "plt.scatter (x, y_true)\n",
    "plt.plot (x, np.sin (x), color = \"red\")\n",
    "plt.show ()"
   ]
  },
  {
   "cell_type": "code",
   "execution_count": 140,
   "metadata": {},
   "outputs": [],
   "source": [
    "def data (x, o):\n",
    "    \n",
    "    df = []\n",
    "    for i in x:\n",
    "        z = []\n",
    "        for j in range (o):\n",
    "            z.append (i**j)\n",
    "        df.append (z)\n",
    "        \n",
    "    df = pd.DataFrame (df)\n",
    "    return df"
   ]
  },
  {
   "cell_type": "code",
   "execution_count": 141,
   "metadata": {},
   "outputs": [
    {
     "data": {
      "text/html": [
       "<div>\n",
       "<style scoped>\n",
       "    .dataframe tbody tr th:only-of-type {\n",
       "        vertical-align: middle;\n",
       "    }\n",
       "\n",
       "    .dataframe tbody tr th {\n",
       "        vertical-align: top;\n",
       "    }\n",
       "\n",
       "    .dataframe thead th {\n",
       "        text-align: right;\n",
       "    }\n",
       "</style>\n",
       "<table border=\"1\" class=\"dataframe\">\n",
       "  <thead>\n",
       "    <tr style=\"text-align: right;\">\n",
       "      <th></th>\n",
       "      <th>0</th>\n",
       "      <th>1</th>\n",
       "      <th>2</th>\n",
       "      <th>3</th>\n",
       "      <th>4</th>\n",
       "    </tr>\n",
       "  </thead>\n",
       "  <tbody>\n",
       "    <tr>\n",
       "      <th>0</th>\n",
       "      <td>1.0</td>\n",
       "      <td>0.000000</td>\n",
       "      <td>0.000000</td>\n",
       "      <td>0.000000</td>\n",
       "      <td>0.000000</td>\n",
       "    </tr>\n",
       "    <tr>\n",
       "      <th>1</th>\n",
       "      <td>1.0</td>\n",
       "      <td>0.698132</td>\n",
       "      <td>0.487388</td>\n",
       "      <td>0.340261</td>\n",
       "      <td>0.237547</td>\n",
       "    </tr>\n",
       "    <tr>\n",
       "      <th>2</th>\n",
       "      <td>1.0</td>\n",
       "      <td>1.396263</td>\n",
       "      <td>1.949551</td>\n",
       "      <td>2.722087</td>\n",
       "      <td>3.800751</td>\n",
       "    </tr>\n",
       "    <tr>\n",
       "      <th>3</th>\n",
       "      <td>1.0</td>\n",
       "      <td>2.094395</td>\n",
       "      <td>4.386491</td>\n",
       "      <td>9.187045</td>\n",
       "      <td>19.241302</td>\n",
       "    </tr>\n",
       "    <tr>\n",
       "      <th>4</th>\n",
       "      <td>1.0</td>\n",
       "      <td>2.792527</td>\n",
       "      <td>7.798206</td>\n",
       "      <td>21.776699</td>\n",
       "      <td>60.812016</td>\n",
       "    </tr>\n",
       "    <tr>\n",
       "      <th>5</th>\n",
       "      <td>1.0</td>\n",
       "      <td>3.490659</td>\n",
       "      <td>12.184697</td>\n",
       "      <td>42.532615</td>\n",
       "      <td>148.466836</td>\n",
       "    </tr>\n",
       "    <tr>\n",
       "      <th>6</th>\n",
       "      <td>1.0</td>\n",
       "      <td>4.188790</td>\n",
       "      <td>17.545963</td>\n",
       "      <td>73.496360</td>\n",
       "      <td>307.860831</td>\n",
       "    </tr>\n",
       "    <tr>\n",
       "      <th>7</th>\n",
       "      <td>1.0</td>\n",
       "      <td>4.886922</td>\n",
       "      <td>23.882006</td>\n",
       "      <td>116.709497</td>\n",
       "      <td>570.350197</td>\n",
       "    </tr>\n",
       "    <tr>\n",
       "      <th>8</th>\n",
       "      <td>1.0</td>\n",
       "      <td>5.585054</td>\n",
       "      <td>31.192824</td>\n",
       "      <td>174.213593</td>\n",
       "      <td>972.992256</td>\n",
       "    </tr>\n",
       "    <tr>\n",
       "      <th>9</th>\n",
       "      <td>1.0</td>\n",
       "      <td>6.283185</td>\n",
       "      <td>39.478418</td>\n",
       "      <td>248.050213</td>\n",
       "      <td>1558.545457</td>\n",
       "    </tr>\n",
       "  </tbody>\n",
       "</table>\n",
       "</div>"
      ],
      "text/plain": [
       "     0         1          2           3            4\n",
       "0  1.0  0.000000   0.000000    0.000000     0.000000\n",
       "1  1.0  0.698132   0.487388    0.340261     0.237547\n",
       "2  1.0  1.396263   1.949551    2.722087     3.800751\n",
       "3  1.0  2.094395   4.386491    9.187045    19.241302\n",
       "4  1.0  2.792527   7.798206   21.776699    60.812016\n",
       "5  1.0  3.490659  12.184697   42.532615   148.466836\n",
       "6  1.0  4.188790  17.545963   73.496360   307.860831\n",
       "7  1.0  4.886922  23.882006  116.709497   570.350197\n",
       "8  1.0  5.585054  31.192824  174.213593   972.992256\n",
       "9  1.0  6.283185  39.478418  248.050213  1558.545457"
      ]
     },
     "execution_count": 141,
     "metadata": {},
     "output_type": "execute_result"
    }
   ],
   "source": [
    "df = data (x, 5)\n",
    "df"
   ]
  },
  {
   "cell_type": "code",
   "execution_count": 124,
   "metadata": {},
   "outputs": [],
   "source": [
    "p_X = np.matmul (X.T, X)"
   ]
  },
  {
   "cell_type": "code",
   "execution_count": 125,
   "metadata": {},
   "outputs": [],
   "source": [
    "inv = np.linalg.inv(p_X)"
   ]
  },
  {
   "cell_type": "code",
   "execution_count": 126,
   "metadata": {},
   "outputs": [
    {
     "data": {
      "text/plain": [
       "array([[ 2.22257676e-01, -2.11037170e-01,  5.84691676e-02,\n",
       "        -6.17212906e-03,  2.19912422e-04],\n",
       "       [-2.11037170e-01,  2.76032349e-01, -8.69687406e-02,\n",
       "         9.84555773e-03, -3.66596508e-04],\n",
       "       [ 5.84691676e-02, -8.69687406e-02,  2.93290247e-02,\n",
       "        -3.46453634e-03,  1.32821703e-04],\n",
       "       [-6.17212906e-03,  9.84555773e-03, -3.46453634e-03,\n",
       "         4.21299278e-04, -1.64962317e-05],\n",
       "       [ 2.19912422e-04, -3.66596508e-04,  1.32821703e-04,\n",
       "        -1.64962317e-05,  6.56364202e-07]])"
      ]
     },
     "execution_count": 126,
     "metadata": {},
     "output_type": "execute_result"
    }
   ],
   "source": [
    "inv"
   ]
  },
  {
   "cell_type": "code",
   "execution_count": 127,
   "metadata": {},
   "outputs": [],
   "source": [
    "val = np.matmul (p_X, X.T)\n",
    "w=np.matmul (val,y)"
   ]
  },
  {
   "cell_type": "code",
   "execution_count": 128,
   "metadata": {},
   "outputs": [
    {
     "data": {
      "text/plain": [
       "array([-9.25326444e+10, -9.73528728e+11, -1.05361443e+13, -1.16410827e+14,\n",
       "       -1.30664614e+15])"
      ]
     },
     "execution_count": 128,
     "metadata": {},
     "output_type": "execute_result"
    }
   ],
   "source": [
    "w"
   ]
  },
  {
   "cell_type": "code",
   "execution_count": 131,
   "metadata": {},
   "outputs": [
    {
     "data": {
      "text/plain": [
       "[<matplotlib.lines.Line2D at 0x7f19b0eb3490>]"
      ]
     },
     "execution_count": 131,
     "metadata": {},
     "output_type": "execute_result"
    },
    {
     "data": {
      "image/png": "[encoded data removed]",
      "text/plain": [
       "<Figure size 432x288 with 1 Axes>"
      ]
     },
     "metadata": {
      "needs_background": "light"
     },
     "output_type": "display_data"
    }
   ],
   "source": [
    "plt.plot(x, np.matmul(X, w))"
   ]
  },
  {
   "cell_type": "code",
   "execution_count": 132,
   "metadata": {},
   "outputs": [
    {
     "data": {
      "text/plain": [
       "array([-9.25326444e+10, -9.63141525e+11, -8.35053784e+12, -3.58944065e+13,\n",
       "       -1.05375248e+14, -2.46714378e+14, -4.97973928e+14, -9.05356845e+14,\n",
       "       -1.52320689e+15, -2.41400864e+15, -3.64838749e+15, -5.30510965e+15,\n",
       "       -7.47108214e+15, -1.02413528e+16, -1.37191103e+16, -1.80156841e+16,\n",
       "       -2.32505444e+16, -2.95513025e+16, -3.70537101e+16, -4.59016601e+16,\n",
       "       -5.62471860e+16, -6.82504621e+16, -8.20798036e+16, -9.79116665e+16,\n",
       "       -1.15930648e+17, -1.36329485e+17, -1.59309056e+17, -1.85078381e+17,\n",
       "       -2.13854619e+17, -2.45863072e+17, -2.81337181e+17, -3.20518529e+17,\n",
       "       -3.63656839e+17, -4.11009975e+17, -4.62843942e+17, -5.19432887e+17,\n",
       "       -5.81059094e+17, -6.48012993e+17, -7.20593151e+17, -7.99106277e+17,\n",
       "       -8.83867221e+17, -9.75198974e+17, -1.07343267e+18, -1.17890757e+18,\n",
       "       -1.29197110e+18, -1.41297881e+18, -1.54229440e+18, -1.68028970e+18,\n",
       "       -1.82734468e+18, -1.98384746e+18, -2.15019431e+18, -2.32678961e+18,\n",
       "       -2.51404592e+18, -2.71238391e+18, -2.92223240e+18, -3.14402835e+18,\n",
       "       -3.37821687e+18, -3.62525120e+18, -3.88559272e+18, -4.15971097e+18,\n",
       "       -4.44808360e+18, -4.75119642e+18, -5.06954339e+18, -5.40362658e+18,\n",
       "       -5.75395624e+18, -6.12105072e+18, -6.50543655e+18, -6.90764836e+18,\n",
       "       -7.32822897e+18, -7.76772929e+18, -8.22670840e+18, -8.70573352e+18,\n",
       "       -9.20538001e+18, -9.72623135e+18, -1.02688792e+19, -1.08339233e+19,\n",
       "       -1.14219716e+19, -1.20336402e+19, -1.26695532e+19, -1.33303431e+19,\n",
       "       -1.40166502e+19, -1.47291232e+19, -1.54684189e+19, -1.62352021e+19,\n",
       "       -1.70301460e+19, -1.78539317e+19, -1.87072485e+19, -1.95907939e+19,\n",
       "       -2.05052735e+19, -2.14514011e+19, -2.24298986e+19, -2.34414959e+19,\n",
       "       -2.44869313e+19, -2.55669510e+19, -2.66823095e+19, -2.78337695e+19,\n",
       "       -2.90221017e+19, -3.02480848e+19, -3.15125060e+19, -3.28161604e+19])"
      ]
     },
     "execution_count": 132,
     "metadata": {},
     "output_type": "execute_result"
    }
   ],
   "source": [
    "np.matmul (X,w)"
   ]
  },
  {
   "cell_type": "code",
   "execution_count": null,
   "metadata": {},
   "outputs": [],
   "source": []
  }
 ],
 "metadata": {
  "kernelspec": {
   "display_name": "Python 3",
   "language": "python",
   "name": "python3"
  },
  "language_info": {
   "codemirror_mode": {
    "name": "ipython",
    "version": 3
   },
   "file_extension": ".py",
   "mimetype": "text/x-python",
   "name": "python",
   "nbconvert_exporter": "python",
   "pygments_lexer": "ipython3",
   "version": "3.7.5"
  }
 },
 "nbformat": 4,
 "nbformat_minor": 2
}
